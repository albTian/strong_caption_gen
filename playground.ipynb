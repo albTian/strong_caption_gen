{
 "cells": [
  {
   "cell_type": "code",
   "execution_count": 9,
   "metadata": {},
   "outputs": [],
   "source": [
    "import numpy as np\n",
    "import pandas as pd\n",
    "from typing import List\n"
   ]
  },
  {
   "cell_type": "code",
   "execution_count": 17,
   "metadata": {},
   "outputs": [],
   "source": [
    "# # Super basic function to create an 'Exercise' line\n",
    "\n",
    "# def exerciseLine(name: str, sets: int, reps: int, weight) -> str:\n",
    "#     return f'{name}: {sets}x{reps}, {weight}lbs'\n",
    "\n",
    "# def exerciseLineFromReps(name: str, reps: List[int], weight) -> str:\n",
    "#     if len(set(reps)) == 1:\n",
    "#         return f'{name}: {len(reps)}x{reps}, {weight}lbs'\n",
    "#     else:\n",
    "#         repStr = '/'.join([str(rep) for rep in reps])\n",
    "#         return f'{name}: {repStr}, {weight}lbs'\n",
    "\n",
    "\n",
    "# For List[Weight] and List[List[Reps]], generate a line\n",
    "# s[\"Reps list\"] = [[a, b], [c, d]]\n",
    "# s[\"Weight\"] = [x, y]\n",
    "def generateLineFromSeries(s):\n",
    "    name, repsList, weights = s[\"Exercise Name\"], s[\"Reps\"], s[\"Weight\"]\n",
    "    if name == \"Intensity\":\n",
    "        return f\"Intensity: {repsList[0][0]}\"\n",
    "    \n",
    "    blocks = []\n",
    "    for weight, reps in zip(weights, repsList):\n",
    "        # Round to the nearest .5 (for floating point errors) and eliminate trailing .0\n",
    "        weight = str(round(weight * 2) / 2).replace('.0', '')\n",
    "        block = ''\n",
    "        # Amrap rule: 4x4 -> 8 instead of 4/4/4/4/8\n",
    "        if len(set(reps)) == 2 and len(set(reps[:-1])) == 1:\n",
    "            block = f'{len(reps)-1}x{reps[0]} -> {reps[-1]}, {weight}lbs'\n",
    "        \n",
    "        # When we have 1 rep count for all sets\n",
    "        elif len(set(reps)) == 1:\n",
    "            block = f'{len(reps)}x{reps[0]}, {weight}lbs'\n",
    "        else:\n",
    "            repStr = '/'.join([str(rep) for rep in reps])\n",
    "            block = f'{repStr}, {weight}lbs'\n",
    "\n",
    "        blocks.append(block)\n",
    "    \n",
    "    meat = \" | \".join(blocks)\n",
    "    return f'{name}: {meat}'\n",
    "\n",
    "def generateCaption(s):\n",
    "    date, exerciseLine = s[\"Date parsed\"], s[\"Exercise line\"]\n",
    "    # Hardcoded AT EGO for now, no setting for week X day X\n",
    "    header = f\"{date}: AT EGO week X day X\"\n",
    "    caption = \"\\n\".join([header, exerciseLine])\n",
    "    return caption\n",
    "\n"
   ]
  },
  {
   "cell_type": "code",
   "execution_count": 24,
   "metadata": {},
   "outputs": [
    {
     "name": "stdout",
     "output_type": "stream",
     "text": [
      "0                 Overhead Press\n",
      "1                    Bench Press\n",
      "2                Cable Crossover\n",
      "3                  Lateral Raise\n",
      "4                        Pull Up\n",
      "                  ...           \n",
      "1415                   Intensity\n",
      "1416                    Deadlift\n",
      "1417    Bench Press - Close Grip\n",
      "1418          Bicep Curl (Cable)\n",
      "1419                   Intensity\n",
      "Name: Exercise Name, Length: 1420, dtype: object\n"
     ]
    }
   ],
   "source": [
    "df = pd.read_csv(\"strong.csv\", na_filter=False)\n",
    "df[\"Date\"] = pd.to_datetime(df[\"Date\"])\n",
    "\n",
    "# To cut short\n",
    "# df = df.tail(30)\n",
    "# Group by Date, Exercise and Weight. Can agg reps using .apply. sort=False to preserve exercise order\n",
    "df = df.groupby([\"Date\", \"Exercise Name\", \"Weight\"], sort=False)[\"Reps\"].agg(list).reset_index()\n",
    "df = df.groupby([\"Date\", \"Exercise Name\"], sort=False).agg(list).reset_index()\n",
    "df[\"Exercise Name\"] = df[\"Exercise Name\"].str.replace(\" \\(Barbell\\)\", \"\")\n",
    "df[\"Exercise Name\"] = df[\"Exercise Name\"].str.replace(\" \\(Dumbbell\\)\", \"\")\n",
    "print(df[\"Exercise Name\"])\n",
    "\n",
    "# Generate per exercise caption lines\n",
    "df[\"Exercise line\"] = df.apply(generateLineFromSeries, axis=1)\n",
    "\n",
    "# Generate per DATE caption lines (joins with newlines)\n",
    "df = df.groupby([\"Date\"])[\"Exercise line\"].apply(lambda lines: '\\n'.join(lines)).reset_index()\n",
    "df[\"Date parsed\"] = df[\"Date\"].dt.strftime(\"-%m/-%d\").str.replace(\"-0\", \"-\").str.replace(\"-\", \"\")\n",
    "df[\"Caption\"] = df.apply(generateCaption, axis=1)\n",
    "\n",
    "# Real ugly but converts date_time to our format m/d. Do this AFTER so dates on different years don't get clumped\n",
    "# df.tail(2)[\"Caption\"].apply(print)"
   ]
  },
  {
   "cell_type": "code",
   "execution_count": 180,
   "metadata": {},
   "outputs": [
    {
     "name": "stdout",
     "output_type": "stream",
     "text": [
      "dog\n"
     ]
    }
   ],
   "source": [
    "reps = [4, 4, 4, 4, 8]"
   ]
  },
  {
   "cell_type": "code",
   "execution_count": 219,
   "metadata": {},
   "outputs": [
    {
     "data": {
      "text/plain": [
       "'abcdef'"
      ]
     },
     "execution_count": 219,
     "metadata": {},
     "output_type": "execute_result"
    }
   ],
   "source": []
  }
 ],
 "metadata": {
  "kernelspec": {
   "display_name": "Python 3",
   "language": "python",
   "name": "python3"
  },
  "language_info": {
   "codemirror_mode": {
    "name": "ipython",
    "version": 3
   },
   "file_extension": ".py",
   "mimetype": "text/x-python",
   "name": "python",
   "nbconvert_exporter": "python",
   "pygments_lexer": "ipython3",
   "version": "3.8.6"
  },
  "orig_nbformat": 4,
  "vscode": {
   "interpreter": {
    "hash": "0adcc2737ebf6a4a119f135174df96668767fca1ef1112612db5ecadf2b6d608"
   }
  }
 },
 "nbformat": 4,
 "nbformat_minor": 2
}
