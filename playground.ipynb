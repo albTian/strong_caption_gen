{
 "cells": [
  {
   "cell_type": "code",
   "execution_count": 9,
   "metadata": {},
   "outputs": [],
   "source": [
    "import numpy as np\n",
    "import pandas as pd\n",
    "from typing import List\n"
   ]
  },
  {
   "cell_type": "code",
   "execution_count": 249,
   "metadata": {},
   "outputs": [],
   "source": [
    "# Super basic function to create an 'Exercise' line\n",
    "\n",
    "def exerciseLine(name: str, sets: int, reps: int, weight) -> str:\n",
    "    return f'{name}: {sets}x{reps}, {weight}lbs'\n",
    "\n",
    "def exerciseLineFromReps(name: str, reps: List[int], weight) -> str:\n",
    "    if len(set(reps)) == 1:\n",
    "        return f'{name}: {len(reps)}x{reps}, {weight}lbs'\n",
    "    else:\n",
    "        repStr = '/'.join([str(rep) for rep in reps])\n",
    "        return f'{name}: {repStr}, {weight}lbs'\n",
    "\n",
    "def generateHeader(name: str, program: str, date: str):\n",
    "    # m/dd: AT 'PROGRAM' week 'w' day 'd'\n",
    "    # How do we get week and day from strong data...?\n",
    "    return f\"{date}: {name} {program} week X day X\"\n",
    "\n",
    "# For List[Weight] and List[List[Reps]], generate a line\n",
    "# s[\"Reps list\"] = [[a, b], [c, d]]\n",
    "# s[\"Weight\"] = [x, y]\n",
    "def generateLineFromSeries(s):\n",
    "    name, repsList, weights = s[\"Exercise Name\"], s[\"Reps\"], s[\"Weight\"]\n",
    "    if name == \"Intensity\":\n",
    "        return f\"Intensity: {repsList[0][0]}\"\n",
    "    \n",
    "    blocks = []\n",
    "    for weight, reps in zip(weights, repsList):\n",
    "        weight = str(weight).replace('.0', '')\n",
    "        block = ''\n",
    "        # Amrap rule: 4x4 -> 8 instead of 4/4/4/4/8\n",
    "        if len(set(reps)) == 2 and len(set(reps[:-1])) == 1:\n",
    "            block = f'{len(reps)-1}x{reps[0]} -> {reps[-1]}, {weight}lbs'\n",
    "        \n",
    "        # When we have 1 rep count for all sets\n",
    "        elif len(set(reps)) == 1:\n",
    "            block = f'{len(reps)}x{reps[0]}, {weight}lbs'\n",
    "        else:\n",
    "            repStr = '/'.join([str(rep) for rep in reps])\n",
    "            block = f'{repStr}, {weight}lbs'\n",
    "\n",
    "        blocks.append(block)\n",
    "    \n",
    "    meat = \" | \".join(blocks)\n",
    "    return f'{name}: {meat}'"
   ]
  },
  {
   "cell_type": "code",
   "execution_count": 250,
   "metadata": {},
   "outputs": [
    {
     "data": {
      "text/html": [
       "<div>\n",
       "<style scoped>\n",
       "    .dataframe tbody tr th:only-of-type {\n",
       "        vertical-align: middle;\n",
       "    }\n",
       "\n",
       "    .dataframe tbody tr th {\n",
       "        vertical-align: top;\n",
       "    }\n",
       "\n",
       "    .dataframe thead th {\n",
       "        text-align: right;\n",
       "    }\n",
       "</style>\n",
       "<table border=\"1\" class=\"dataframe\">\n",
       "  <thead>\n",
       "    <tr style=\"text-align: right;\">\n",
       "      <th></th>\n",
       "      <th>Date</th>\n",
       "      <th>Exercise Name</th>\n",
       "      <th>Weight</th>\n",
       "      <th>Reps</th>\n",
       "      <th>Exercise line</th>\n",
       "      <th>Date parsed</th>\n",
       "    </tr>\n",
       "  </thead>\n",
       "  <tbody>\n",
       "    <tr>\n",
       "      <th>0</th>\n",
       "      <td>2022-12-06 08:57:32</td>\n",
       "      <td>Bench Press - Close Grip (Barbell)</td>\n",
       "      <td>[205.0]</td>\n",
       "      <td>[[6, 6]]</td>\n",
       "      <td>Bench Press - Close Grip (Barbell): 2x6, 205lbs</td>\n",
       "      <td>12/6</td>\n",
       "    </tr>\n",
       "    <tr>\n",
       "      <th>1</th>\n",
       "      <td>2022-12-06 08:57:32</td>\n",
       "      <td>Bicep Curl (Cable)</td>\n",
       "      <td>[65.0, 65.5]</td>\n",
       "      <td>[[10, 10], [10]]</td>\n",
       "      <td>Bicep Curl (Cable): 2x10, 65lbs | 1x10, 65.5lbs</td>\n",
       "      <td>12/6</td>\n",
       "    </tr>\n",
       "    <tr>\n",
       "      <th>2</th>\n",
       "      <td>2022-12-06 08:57:32</td>\n",
       "      <td>Deadlift (Barbell)</td>\n",
       "      <td>[330.0]</td>\n",
       "      <td>[[4, 4, 4, 8]]</td>\n",
       "      <td>Deadlift (Barbell): 3x4 -&gt; 8, 330lbs</td>\n",
       "      <td>12/6</td>\n",
       "    </tr>\n",
       "    <tr>\n",
       "      <th>3</th>\n",
       "      <td>2022-12-06 08:57:32</td>\n",
       "      <td>Intensity</td>\n",
       "      <td>[0.0]</td>\n",
       "      <td>[[7]]</td>\n",
       "      <td>Intensity: 7</td>\n",
       "      <td>12/6</td>\n",
       "    </tr>\n",
       "  </tbody>\n",
       "</table>\n",
       "</div>"
      ],
      "text/plain": [
       "                 Date                       Exercise Name        Weight  \\\n",
       "0 2022-12-06 08:57:32  Bench Press - Close Grip (Barbell)       [205.0]   \n",
       "1 2022-12-06 08:57:32                  Bicep Curl (Cable)  [65.0, 65.5]   \n",
       "2 2022-12-06 08:57:32                  Deadlift (Barbell)       [330.0]   \n",
       "3 2022-12-06 08:57:32                           Intensity         [0.0]   \n",
       "\n",
       "               Reps                                    Exercise line  \\\n",
       "0          [[6, 6]]  Bench Press - Close Grip (Barbell): 2x6, 205lbs   \n",
       "1  [[10, 10], [10]]  Bicep Curl (Cable): 2x10, 65lbs | 1x10, 65.5lbs   \n",
       "2    [[4, 4, 4, 8]]             Deadlift (Barbell): 3x4 -> 8, 330lbs   \n",
       "3             [[7]]                                     Intensity: 7   \n",
       "\n",
       "  Date parsed  \n",
       "0        12/6  \n",
       "1        12/6  \n",
       "2        12/6  \n",
       "3        12/6  "
      ]
     },
     "execution_count": 250,
     "metadata": {},
     "output_type": "execute_result"
    }
   ],
   "source": [
    "df = pd.read_csv(\"strong.csv\", na_filter=False)\n",
    "df[\"Date\"] = pd.to_datetime(df[\"Date\"])\n",
    "\n",
    "# To cut short\n",
    "df = df.tail(10)\n",
    "# Group by Date, Exercise and Weight. Can agg reps using .apply.\n",
    "df = df.groupby([\"Date\", \"Exercise Name\", \"Weight\"])[\"Reps\"].agg(list).reset_index()\n",
    "df = df.groupby([\"Date\", \"Exercise Name\"]).agg(list).reset_index()\n",
    "\n",
    "# Generate caption lines!\n",
    "df[\"Exercise line\"] = df.apply(generateLineFromSeries, axis=1)\n",
    "\n",
    "# df.group\n",
    "\n",
    "# Real ugly but converts date_time to our format m/d. Do this AFTER so dates on different years don't get clumped\n",
    "# df[\"Date parsed\"] = df[\"Date\"].dt.strftime(\"-%m/-%d\").str.replace(\"-0\", \"-\").str.replace(\"-\", \"\")\n",
    "df"
   ]
  },
  {
   "cell_type": "code",
   "execution_count": 180,
   "metadata": {},
   "outputs": [
    {
     "name": "stdout",
     "output_type": "stream",
     "text": [
      "dog\n"
     ]
    }
   ],
   "source": [
    "reps = [4, 4, 4, 4, 8]"
   ]
  },
  {
   "cell_type": "code",
   "execution_count": 219,
   "metadata": {},
   "outputs": [
    {
     "data": {
      "text/plain": [
       "'abcdef'"
      ]
     },
     "execution_count": 219,
     "metadata": {},
     "output_type": "execute_result"
    }
   ],
   "source": []
  },
  {
   "cell_type": "code",
   "execution_count": null,
   "metadata": {},
   "outputs": [],
   "source": []
  }
 ],
 "metadata": {
  "kernelspec": {
   "display_name": "Python 3",
   "language": "python",
   "name": "python3"
  },
  "language_info": {
   "codemirror_mode": {
    "name": "ipython",
    "version": 3
   },
   "file_extension": ".py",
   "mimetype": "text/x-python",
   "name": "python",
   "nbconvert_exporter": "python",
   "pygments_lexer": "ipython3",
   "version": "3.8.6"
  },
  "orig_nbformat": 4,
  "vscode": {
   "interpreter": {
    "hash": "0adcc2737ebf6a4a119f135174df96668767fca1ef1112612db5ecadf2b6d608"
   }
  }
 },
 "nbformat": 4,
 "nbformat_minor": 2
}
