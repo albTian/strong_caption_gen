{
 "cells": [
  {
   "cell_type": "code",
   "execution_count": 1,
   "metadata": {},
   "outputs": [],
   "source": [
    "import numpy as np\n",
    "import pandas as pd\n",
    "from typing import List\n"
   ]
  },
  {
   "cell_type": "code",
   "execution_count": 8,
   "metadata": {},
   "outputs": [],
   "source": [
    "# # Super basic function to create an 'Exercise' line\n",
    "\n",
    "# def exerciseLine(name: str, sets: int, reps: int, weight) -> str:\n",
    "#     return f'{name}: {sets}x{reps}, {weight}lbs'\n",
    "\n",
    "# def exerciseLineFromReps(name: str, reps: List[int], weight) -> str:\n",
    "#     if len(set(reps)) == 1:\n",
    "#         return f'{name}: {len(reps)}x{reps}, {weight}lbs'\n",
    "#     else:\n",
    "#         repStr = '/'.join([str(rep) for rep in reps])\n",
    "#         return f'{name}: {repStr}, {weight}lbs'\n",
    "\n",
    "\n",
    "# For List[Weight] and List[List[Reps]], generate a line\n",
    "# s[\"Reps list\"] = [[a, b], [c, d]]\n",
    "# s[\"Weight\"] = [x, y]\n",
    "def generateLineFromSeries(s):\n",
    "    name, repsList, weights = s[\"Exercise Name\"], s[\"Reps\"], s[\"Weight\"]\n",
    "    if name == \"Intensity\":\n",
    "        return f\"Intensity: {repsList[0][0]}\"\n",
    "    \n",
    "    blocks = []\n",
    "    for weight, reps in zip(weights, repsList):\n",
    "        # Round to the nearest .5 (for floating point errors) and eliminate trailing .0\n",
    "        weight = str(round(weight * 2) / 2).replace('.0', '')\n",
    "        block = ''\n",
    "        # Amrap rule: 4x4 -> 8 instead of 4/4/4/4/8. Avoid 1x6 -> 7 format\n",
    "        if len(reps) > 2 and len(set(reps)) == 2 and len(set(reps[:-1])) == 1:\n",
    "            block = f'{len(reps)-1}x{reps[0]} -> {reps[-1]}, {weight}lbs'\n",
    "        \n",
    "        # When we have 1 rep count for all sets\n",
    "        elif len(set(reps)) == 1:\n",
    "            block = f'{len(reps)}x{reps[0]}, {weight}lbs'\n",
    "        else:\n",
    "            repStr = '/'.join([str(rep) for rep in reps])\n",
    "            block = f'{repStr}, {weight}lbs'\n",
    "\n",
    "        blocks.append(block)\n",
    "    \n",
    "    meat = \" | \".join(blocks)\n",
    "    print(f'{name}: {meat}')\n",
    "    return f'{name}: {meat}'\n",
    "\n",
    "def generateCaption(s):\n",
    "    date, exerciseLine = s[\"Date parsed\"], s[\"Exercise line\"]\n",
    "    # Hardcoded AT EGO for now, no setting for week X day X\n",
    "    header = f\"{date}: AT EGO week X day X\"\n",
    "    caption = \"\\n\".join([header, exerciseLine])\n",
    "    return caption\n",
    "\n"
   ]
  },
  {
   "cell_type": "code",
   "execution_count": 9,
   "metadata": {},
   "outputs": [
    {
     "name": "stdout",
     "output_type": "stream",
     "text": [
      "Bench Press - Close Grip: 2x6, 205lbs\n",
      "Bicep Curl (Cable): 1x10 -> 11, 65lbs\n"
     ]
    },
    {
     "data": {
      "text/html": [
       "<div>\n",
       "<style scoped>\n",
       "    .dataframe tbody tr th:only-of-type {\n",
       "        vertical-align: middle;\n",
       "    }\n",
       "\n",
       "    .dataframe tbody tr th {\n",
       "        vertical-align: top;\n",
       "    }\n",
       "\n",
       "    .dataframe thead th {\n",
       "        text-align: right;\n",
       "    }\n",
       "</style>\n",
       "<table border=\"1\" class=\"dataframe\">\n",
       "  <thead>\n",
       "    <tr style=\"text-align: right;\">\n",
       "      <th></th>\n",
       "      <th>Date</th>\n",
       "      <th>Exercise line</th>\n",
       "      <th>Date parsed</th>\n",
       "      <th>Caption</th>\n",
       "    </tr>\n",
       "  </thead>\n",
       "  <tbody>\n",
       "    <tr>\n",
       "      <th>0</th>\n",
       "      <td>2022-12-06 08:57:32</td>\n",
       "      <td>Bench Press - Close Grip: 2x6, 205lbs\\nBicep C...</td>\n",
       "      <td>12/6</td>\n",
       "      <td>12/6: AT EGO week X day X\\nBench Press - Close...</td>\n",
       "    </tr>\n",
       "  </tbody>\n",
       "</table>\n",
       "</div>"
      ],
      "text/plain": [
       "                 Date                                      Exercise line  \\\n",
       "0 2022-12-06 08:57:32  Bench Press - Close Grip: 2x6, 205lbs\\nBicep C...   \n",
       "\n",
       "  Date parsed                                            Caption  \n",
       "0        12/6  12/6: AT EGO week X day X\\nBench Press - Close...  "
      ]
     },
     "execution_count": 9,
     "metadata": {},
     "output_type": "execute_result"
    }
   ],
   "source": [
    "df = pd.read_csv(\"strong.csv\", na_filter=False)\n",
    "df[\"Date\"] = pd.to_datetime(df[\"Date\"])\n",
    "df = df.tail(5)\n",
    "\n",
    "# To cut short\n",
    "# df = df.tail(30)\n",
    "# Group by Date, Exercise and Weight. Can agg reps using .apply. sort=False to preserve exercise order\n",
    "df = df.groupby([\"Date\", \"Exercise Name\", \"Weight\"], sort=False)[\"Reps\"].agg(list).reset_index()\n",
    "df = df.groupby([\"Date\", \"Exercise Name\"], sort=False).agg(list).reset_index()\n",
    "df[\"Exercise Name\"] = df[\"Exercise Name\"].str.replace(\" \\(Barbell\\)\", \"\")\n",
    "df[\"Exercise Name\"] = df[\"Exercise Name\"].str.replace(\" \\(Dumbbell\\)\", \"\")\n",
    "\n",
    "# Generate per exercise caption lines\n",
    "df[\"Exercise line\"] = df.apply(generateLineFromSeries, axis=1)\n",
    "\n",
    "# Generate per DATE caption lines (joins with newlines)\n",
    "df = df.groupby([\"Date\"])[\"Exercise line\"].apply(lambda lines: '\\n'.join(lines)).reset_index()\n",
    "df[\"Date parsed\"] = df[\"Date\"].dt.strftime(\"-%m/-%d\").str.replace(\"-0\", \"-\").str.replace(\"-\", \"\")\n",
    "df[\"Caption\"] = df.apply(generateCaption, axis=1)\n",
    "\n",
    "df\n",
    "\n",
    "# Real ugly but converts date_time to our format m/d. Do this AFTER so dates on different years don't get clumped\n",
    "# df.tail(2)[\"Caption\"].apply(print)"
   ]
  },
  {
   "cell_type": "code",
   "execution_count": 180,
   "metadata": {},
   "outputs": [
    {
     "name": "stdout",
     "output_type": "stream",
     "text": [
      "dog\n"
     ]
    }
   ],
   "source": [
    "reps = [4, 4, 4, 4, 8]"
   ]
  },
  {
   "cell_type": "code",
   "execution_count": 219,
   "metadata": {},
   "outputs": [
    {
     "data": {
      "text/plain": [
       "'abcdef'"
      ]
     },
     "execution_count": 219,
     "metadata": {},
     "output_type": "execute_result"
    }
   ],
   "source": []
  }
 ],
 "metadata": {
  "kernelspec": {
   "display_name": "Python 3",
   "language": "python",
   "name": "python3"
  },
  "language_info": {
   "codemirror_mode": {
    "name": "ipython",
    "version": 3
   },
   "file_extension": ".py",
   "mimetype": "text/x-python",
   "name": "python",
   "nbconvert_exporter": "python",
   "pygments_lexer": "ipython3",
   "version": "3.8.6"
  },
  "orig_nbformat": 4,
  "vscode": {
   "interpreter": {
    "hash": "0adcc2737ebf6a4a119f135174df96668767fca1ef1112612db5ecadf2b6d608"
   }
  }
 },
 "nbformat": 4,
 "nbformat_minor": 2
}
